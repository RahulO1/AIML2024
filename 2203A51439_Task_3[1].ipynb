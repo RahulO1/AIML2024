{
  "nbformat": 4,
  "nbformat_minor": 0,
  "metadata": {
    "colab": {
      "provenance": []
    },
    "kernelspec": {
      "name": "python3",
      "display_name": "Python 3"
    },
    "language_info": {
      "name": "python"
    }
  },
  "cells": [
    {
      "cell_type": "code",
      "execution_count": 1,
      "metadata": {
        "id": "fXDd-9YygPsV",
        "colab": {
          "base_uri": "https://localhost:8080/"
        },
        "outputId": "dfb0647a-bbe2-4e18-e5d9-c8f13ceb08d7"
      },
      "outputs": [
        {
          "output_type": "stream",
          "name": "stdout",
          "text": [
            "   age  height\n",
            "0   12     115\n",
            "1   13     130\n",
            "2   46     167\n",
            "3   20     145\n",
            "4   34     153\n"
          ]
        }
      ],
      "source": [
        "import pandas as pd\n",
        "df_tsv = pd.read_csv('/2203A51439- Sheet1.tsv', sep='\\t')\n",
        "print(df_tsv)"
      ]
    },
    {
      "cell_type": "code",
      "source": [
        "df_csv = pd.read_csv('/2203A51439- Sheet1.csv')\n",
        "print(df_csv)"
      ],
      "metadata": {
        "colab": {
          "base_uri": "https://localhost:8080/"
        },
        "id": "OWVIzJ2WnBdd",
        "outputId": "c19d6a99-67d2-40f5-f7eb-8f33f7e034bd"
      },
      "execution_count": 2,
      "outputs": [
        {
          "output_type": "stream",
          "name": "stdout",
          "text": [
            "   age  height\n",
            "0   15     115\n",
            "1   18     130\n",
            "2   35     167\n",
            "3   23     145\n",
            "4   34     153\n"
          ]
        }
      ]
    },
    {
      "cell_type": "code",
      "source": [
        "df_xlsx = pd.read_excel(\"/2203A51439.xlsx\")\n",
        "print(df_xlsx)"
      ],
      "metadata": {
        "colab": {
          "base_uri": "https://localhost:8080/"
        },
        "id": "ixM8YwExnBp6",
        "outputId": "bcce7ff6-d543-4520-93c3-306f690f1232"
      },
      "execution_count": 3,
      "outputs": [
        {
          "output_type": "stream",
          "name": "stdout",
          "text": [
            "   age  height\n",
            "0   12     115\n",
            "1   13     130\n",
            "2   46     167\n",
            "3   20     145\n",
            "4   34     153\n"
          ]
        }
      ]
    },
    {
      "cell_type": "code",
      "source": [
        "url = \"https://github.com/RahulO1/AIML_Task_3-1-\"\n",
        "df_url = pd.read_csv(url,'\\t')\n",
        "print(df_url)"
      ],
      "metadata": {
        "colab": {
          "base_uri": "https://localhost:8080/"
        },
        "id": "Iv6gOfEznBxy",
        "outputId": "83d06f95-c612-4767-fddb-b8da53816e03"
      },
      "execution_count": 4,
      "outputs": [
        {
          "output_type": "stream",
          "name": "stderr",
          "text": [
            "<ipython-input-4-23ea212a66cc>:2: FutureWarning: In a future version of pandas all arguments of read_csv except for the argument 'filepath_or_buffer' will be keyword-only.\n",
            "  df_url = pd.read_csv(url,'\\t')\n"
          ]
        },
        {
          "output_type": "stream",
          "name": "stdout",
          "text": [
            "                                        <!DOCTYPE html>\n",
            "0                                                 <html\n",
            "1                                             lang=\"en\"\n",
            "2       data-color-mode=\"auto\" data-light-theme=\"lig...\n",
            "3       data-a11y-animated-images=\"system\" data-a11y...\n",
            "4                                                     >\n",
            "...                                                 ...\n",
            "1268                                             </div>\n",
            "1269      <div id=\"js-global-screen-reader-notice\" c...\n",
            "1270      <div id=\"js-global-screen-reader-notice-as...\n",
            "1271                                            </body>\n",
            "1272                                            </html>\n",
            "\n",
            "[1273 rows x 1 columns]\n"
          ]
        }
      ]
    }
  ]
}